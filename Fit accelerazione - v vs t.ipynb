{
 "cells": [
  {
   "cell_type": "code",
   "execution_count": null,
   "id": "5fbea30b",
   "metadata": {},
   "outputs": [],
   "source": [
    "import matplotlib.pyplot as plt\n",
    "import numpy as np\n",
    "import scipy as sp\n",
    "from scipy import stats\n",
    "\n",
    "import pandas as pd\n",
    "import random\n",
    "import math\n",
    "\n",
    "# libreria locale\n",
    "import my_lib_modificata as my"
   ]
  },
  {
   "cell_type": "code",
   "execution_count": null,
   "id": "9811abcd",
   "metadata": {},
   "outputs": [],
   "source": [
    "# FAR FUNZIONARE IL FIT\n",
    "# variabili da associare alla funzione fit\n",
    "# m, sigma_m, c, sigma_c, cov_mc, rho_mc = my.lin_fit...\n",
    "# cose da inserire dentro la funzione fit\n",
    "# array x, array y, sigma_y, xlabel, ylabel, title, xmin, xmax, ymin, ymax, plot=True"
   ]
  },
  {
   "cell_type": "code",
   "execution_count": null,
   "id": "17ad724f",
   "metadata": {
    "scrolled": true
   },
   "outputs": [],
   "source": [
    "# PARAMETRI DELLA RETTA DI CALIBRAZIONE\n",
    "m =  173.7133\n",
    "sigma_m =  0.1915\n",
    "c =  -0.0152\n",
    "sigma_c = 0.0011\n",
    "cov = -0.0002\n",
    "rho = -0.9585"
   ]
  },
  {
   "cell_type": "code",
   "execution_count": null,
   "id": "c757f64e",
   "metadata": {
    "scrolled": false
   },
   "outputs": [],
   "source": [
    "# IMPORTO I TEMPI E VEDO DOVE TAGLIARE\n",
    "df = pd.read_csv('', header=1, sep='\\t')\n",
    "df = df.rename(columns={\"Tempo ( s )\":\"t\", \"Tempo trascorso ( s )\":\"DeltaT\"})\n",
    "df.plot(x=\"t\", y=\"DeltaT\", linestyle=\"None\", marker=\".\")"
   ]
  },
  {
   "cell_type": "code",
   "execution_count": null,
   "id": "f10749da",
   "metadata": {},
   "outputs": [],
   "source": [
    "# TAGLIO I TEMPI INUTILI\n",
    "df_new = df.drop(df[df.t <4.5 ].index | df[df.t > 6.5].index)\n",
    "df_new"
   ]
  },
  {
   "cell_type": "code",
   "execution_count": null,
   "id": "166bc516",
   "metadata": {
    "scrolled": true
   },
   "outputs": [],
   "source": [
    "# USO DELLA RETTA DI CALIBRAZIONE\n",
    "dTi = df_new.DeltaT.to_numpy()\n",
    "n = len(dTi)\n",
    "sigma_dTi = np.repeat(0.0000003, n)\n",
    "\n",
    "xi = m*dTi + c\n",
    "sigma_xi = np.sqrt( (dTi**2)*(sigma_m**2) + (m**2)*(sigma_dTi**2) + sigma_c**2 + 2*dTi*cov )\n",
    "\n",
    "dTi, xi, sigma_xi"
   ]
  },
  {
   "cell_type": "code",
   "execution_count": null,
   "id": "db312f28",
   "metadata": {
    "scrolled": false
   },
   "outputs": [],
   "source": [
    "# X, SIGMA_X, Y, SIGMA_Y\n",
    "t = df_new.t.to_numpy()\n",
    "sigma_t = np.repeat(0.0000003, len(t)-1) # array delle incertezze lungo quanto quello dei tempi meno un elemento\n",
    "\n",
    "v = np.zeros(shape=len(xi)-1)\n",
    "for i in range (0, len(xi)-1):\n",
    "    v[i]=(xi[i+1]-xi[i])/(t[i+1]-t[i])\n",
    "sigma_v = np.repeat(0.00001, len(v))\n",
    "\n",
    "t = np.delete(t,len(t)-1) # ho cancellato l'ultimo elemento dell'array tempi perché altrimenti \"t\" e \"v\" avrebbero avuto lunghezze diverse\n",
    "t, sigma_t, v, sigma_v"
   ]
  },
  {
   "cell_type": "code",
   "execution_count": null,
   "id": "d9aad6ff",
   "metadata": {},
   "outputs": [],
   "source": [
    "# STIMA DI M COME DELTA_Y / DELTA_X\n",
    "m0 = (v.max()-v.min())/(t.max()-t.min())\n",
    "m0\n",
    "\n",
    "# STIMA DI M CON FIT PER SIGMA_X = 0\n",
    "# m0, sigma_m0, c0, sigma_c0, cov0, rho0 = my.lin_fit(t, v, sigma_v, \"Tempo\", \"Velocità\", t.min(), t.max(), v.min(), v.max(), plot=True)"
   ]
  },
  {
   "cell_type": "code",
   "execution_count": null,
   "id": "ba329d90",
   "metadata": {
    "scrolled": false
   },
   "outputs": [],
   "source": [
    "# NUOVE INCERTEZZE E FIT FINALE\n",
    "# sigma_v_new = np.sqrt(sigma_v**2+(m0*sigma_t)**2)\n",
    "sigma_v_new = sigma_v # tocca vedere se le incertezze sono comparabili o no e scegliere la riga di codice da usare\n",
    "m, sigma_m, c, sigma_c, cov, rho = my.lin_fit(t, v, sigma_v_new, \"Tempo misurato [s]]\", \"Velocità del carrello [m/s]\", \"Fit tempo e velocità\", t.min(), t.max(), v.min(), v.max(), plot=True)"
   ]
  },
  {
   "cell_type": "code",
   "execution_count": null,
   "id": "8cae2786",
   "metadata": {},
   "outputs": [],
   "source": [
    "# STUDIO DEI RESIDUI\n",
    "v_atteso = m*t + c\n",
    "d = v - v_atteso\n",
    "d_norm = d / sigma_v_new"
   ]
  },
  {
   "cell_type": "code",
   "execution_count": null,
   "id": "c631dc03",
   "metadata": {},
   "outputs": [],
   "source": [
    "# RESIDUI\n",
    "plt.grid()\n",
    "plt.errorbar(t, d, sigma_v_new, marker='o',linestyle=\"\", color=\"blue\", alpha=0.7)\n",
    "plt.plot([t.min()-0.5, t.max()+0.5], [0,0], linestyle=\"--\", color=\"red\", alpha=0.9)\n",
    "plt.xlim(t.min()-0.01, t.max()+0.01)\n",
    "plt.ylabel(\"Residui $d=v-v_{atteso}$ [m/s]\")\n",
    "plt.xlabel(\"Tempo misurato [s]\")"
   ]
  },
  {
   "cell_type": "code",
   "execution_count": null,
   "id": "af403dd3",
   "metadata": {},
   "outputs": [],
   "source": [
    "# RESIDUI NORMALIZZATI\n",
    "plt.grid()\n",
    "plt.errorbar(t, d_norm, sigma_v_new/sigma_v_new, marker='o',linestyle=\"\", color=\"blue\", alpha=0.7)\n",
    "plt.plot([t.min()-0.5, t.max()+0.5], [0,0], linestyle=\"--\", color=\"red\", alpha=0.9)\n",
    "plt.xlim(t.min()-0.01, t.max()+0.01)\n",
    "plt.ylabel(\"Residui normalizzati $d=v-v_{atteso}$ [m/s]\")\n",
    "plt.xlabel(\"Tempo misurato [s]\")"
   ]
  },
  {
   "cell_type": "code",
   "execution_count": null,
   "id": "c0e8a781",
   "metadata": {},
   "outputs": [],
   "source": [
    "# CALCOLO DI A\n",
    "a = \n",
    "sigma_a = \n",
    "print('Accelerazione: ', a)\n",
    "print('Incertezza: ', sigma_a)"
   ]
  },
  {
   "cell_type": "code",
   "execution_count": null,
   "id": "2e95aa68",
   "metadata": {},
   "outputs": [],
   "source": []
  }
 ],
 "metadata": {
  "kernelspec": {
   "display_name": "Python 3 (ipykernel)",
   "language": "python",
   "name": "python3"
  },
  "language_info": {
   "codemirror_mode": {
    "name": "ipython",
    "version": 3
   },
   "file_extension": ".py",
   "mimetype": "text/x-python",
   "name": "python",
   "nbconvert_exporter": "python",
   "pygments_lexer": "ipython3",
   "version": "3.10.7"
  }
 },
 "nbformat": 4,
 "nbformat_minor": 5
}
