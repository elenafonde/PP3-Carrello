{
 "cells": [
  {
   "cell_type": "code",
   "execution_count": null,
   "id": "5fbea30b",
   "metadata": {},
   "outputs": [],
   "source": [
    "import matplotlib.pyplot as plt\n",
    "import numpy as np\n",
    "import scipy as sp\n",
    "from scipy import stats\n",
    "\n",
    "import pandas as pd\n",
    "import random\n",
    "import math\n",
    "\n",
    "# libreria locale\n",
    "import my_lib_modificata as my"
   ]
  },
  {
   "cell_type": "code",
   "execution_count": null,
   "id": "9811abcd",
   "metadata": {},
   "outputs": [],
   "source": [
    "# FAR FUNZIONARE IL FIT\n",
    "# variabili da associare alla funzione fit\n",
    "# m, sigma_m, c, sigma_c, cov_mc, rho_mc = my.lin_fit...\n",
    "# cose da inserire dentro la funzione fit\n",
    "# array x, array y, sigma_y, xlabel, ylabel, title, xmin, xmax, ymin, ymax, plot=True"
   ]
  },
  {
   "cell_type": "code",
   "execution_count": null,
   "id": "db312f28",
   "metadata": {},
   "outputs": [],
   "source": [
    "# X, SIGMA_X, Y, SIGMA_Y\n",
    "theta = \n",
    "sigma_theta = \n",
    "a = \n",
    "sigma_a = \n",
    "theta, sigma_theta, a, sigma_a"
   ]
  },
  {
   "cell_type": "code",
   "execution_count": null,
   "id": "d9aad6ff",
   "metadata": {},
   "outputs": [],
   "source": [
    "# STIMA DI M COME DELTA_Y / DELTA_X\n",
    "m0 = (a.max()-a.min())/(theta.max()-theta.min())\n",
    "m0\n",
    "\n",
    "# STIMA DI M CON FIT PER SIGMA_L = 0\n",
    "# m0, sigma_m0, c0, sigma_c0, cov0, rho0 = my.lin_fit(theta, a, sigma_a, \"Angolo\", \"Accelerazione\", theta.min(), theta.max(), a.min(), a.max(), plot=True)"
   ]
  },
  {
   "cell_type": "code",
   "execution_count": null,
   "id": "ba329d90",
   "metadata": {},
   "outputs": [],
   "source": [
    "# NUOVE INCERTEZZE E FIT FINALE\n",
    "sigma_a_new = np.sqrt(sigma_a**2+(m0*sigma_theta)**2)\n",
    "m, sigma_m, c, sigma_c, cov, rho = my.lin_fit(theta, a, sigma_a_new, \"Angolo misurato [rad]\", \"Accelerazione del carrello [$m/s^2$]\", \"Fit accelerazione e angolo\", theta.min(), theta.max(), a.min(), a.max(), plot=True)"
   ]
  },
  {
   "cell_type": "code",
   "execution_count": null,
   "id": "8cae2786",
   "metadata": {},
   "outputs": [],
   "source": [
    "# STUDIO DEI RESIDUI\n",
    "a_atteso = m*theta + c\n",
    "d = a - a_atteso\n",
    "d_norm = d / sigma_a_new"
   ]
  },
  {
   "cell_type": "code",
   "execution_count": null,
   "id": "c631dc03",
   "metadata": {},
   "outputs": [],
   "source": [
    "# RESIDUI\n",
    "plt.grid()\n",
    "plt.errorbar(theta, a, sigma_a_new, marker='o',linestyle=\"\", color=\"blue\", alpha=0.7)\n",
    "plt.plot([theta.min()-0.5, theta.max()+0.5], [0,0], linestyle=\"--\", color=\"red\", alpha=0.9)\n",
    "plt.xlim(theta.min()-0.01, theta.max()+0.01)\n",
    "plt.ylabel(\"Residui $d=a-a_{atteso}$ [$m/s^2$]\")\n",
    "plt.xlabel(\"Angolo misurato [rad?]\")"
   ]
  },
  {
   "cell_type": "code",
   "execution_count": null,
   "id": "af403dd3",
   "metadata": {},
   "outputs": [],
   "source": [
    "# RESIDUI NORMALIZZATI\n",
    "plt.grid()\n",
    "plt.errorbar(theta, d_norm, sigma_a_new/sigma_a_new, marker='o',linestyle=\"\", color=\"blue\", alpha=0.7)\n",
    "plt.plot([theta.min()-0.5, theta.max()+0.5], [0,0], linestyle=\"--\", color=\"red\", alpha=0.9)\n",
    "plt.xlim(theta.min()-0.01, theta.max()+0.01)\n",
    "plt.ylabel(\"Residui normalizzati $d_{norm}=a-a_{atteso}$ [$m/s^2$]\")\n",
    "plt.xlabel(\"Angolo misurato [rad?]\")\n"
   ]
  },
  {
   "cell_type": "code",
   "execution_count": null,
   "id": "c0e8a781",
   "metadata": {},
   "outputs": [],
   "source": [
    "# CALCOLO DI G E COMPATIBILITÀ\n",
    "g = \n",
    "sigma_g = \n",
    "z_g = (vs-9.81)/sigma_g\n",
    "print('Accelerazione di gravità: ', g)\n",
    "print('Incertezza: ', sigma_g)\n",
    "print('Compatibilità: ', z_g)"
   ]
  },
  {
   "cell_type": "code",
   "execution_count": null,
   "id": "2e95aa68",
   "metadata": {},
   "outputs": [],
   "source": []
  }
 ],
 "metadata": {
  "kernelspec": {
   "display_name": "Python 3 (ipykernel)",
   "language": "python",
   "name": "python3"
  },
  "language_info": {
   "codemirror_mode": {
    "name": "ipython",
    "version": 3
   },
   "file_extension": ".py",
   "mimetype": "text/x-python",
   "name": "python",
   "nbconvert_exporter": "python",
   "pygments_lexer": "ipython3",
   "version": "3.10.7"
  }
 },
 "nbformat": 4,
 "nbformat_minor": 5
}
